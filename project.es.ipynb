{
 "cells": [
  {
   "attachments": {},
   "cell_type": "markdown",
   "id": "innocent-university",
   "metadata": {},
   "source": [
    "# Limpieza de bienes raíces\n",
    "\n",
    "Este es un conjunto de datos (dataset) reales que fue descargado usando técnicas de web scraping. La data contiene registros de fotocasa, el cual es uno de los sitios mas populares de bienes raíces en España. Por favor no hagas estos (web scraping) a no ser que sea para propósitos académicos.\n",
    "\n",
    "El dataset fue descargado hace algunos años por Henry Navarro y en ningún caso se obtuvo beneficio económico de ello.\n",
    "\n",
    "Contiene miles de datos de casas reales publicadas en la web www.fotocasa.com. Tu objetivo es extraer tanta información como sea posible con el conocimiento que tienes hasta ahora de ciencia de datos, por ejemplo ¿cuál es la casa mas cara en todo el dataset?\n",
    "\n",
    "Empecemos precisamente con esa pregunta... ¡Buena suerte!\n",
    "\n",
    "Let's start with precisely that question... Good luck!"
   ]
  },
  {
   "attachments": {},
   "cell_type": "markdown",
   "id": "multiple-glass",
   "metadata": {},
   "source": [
    "#### Ejercicio 00. Lee el dataset assets/real_estate.csv e intenta visualizar la tabla (★☆☆)"
   ]
  },
  {
   "cell_type": "code",
   "execution_count": 129,
   "id": "frank-heath",
   "metadata": {},
   "outputs": [
    {
     "data": {
      "text/html": [
       "<div>\n",
       "<style scoped>\n",
       "    .dataframe tbody tr th:only-of-type {\n",
       "        vertical-align: middle;\n",
       "    }\n",
       "\n",
       "    .dataframe tbody tr th {\n",
       "        vertical-align: top;\n",
       "    }\n",
       "\n",
       "    .dataframe thead th {\n",
       "        text-align: right;\n",
       "    }\n",
       "</style>\n",
       "<table border=\"1\" class=\"dataframe\">\n",
       "  <thead>\n",
       "    <tr style=\"text-align: right;\">\n",
       "      <th></th>\n",
       "      <th>Unnamed: 0</th>\n",
       "      <th>id_realEstates</th>\n",
       "      <th>isNew</th>\n",
       "      <th>realEstate_name</th>\n",
       "      <th>phone_realEstate</th>\n",
       "      <th>url_inmueble</th>\n",
       "      <th>rooms</th>\n",
       "      <th>bathrooms</th>\n",
       "      <th>surface</th>\n",
       "      <th>price</th>\n",
       "      <th>date</th>\n",
       "      <th>description</th>\n",
       "      <th>address</th>\n",
       "      <th>country</th>\n",
       "      <th>level1</th>\n",
       "      <th>level2</th>\n",
       "      <th>level3</th>\n",
       "      <th>level4</th>\n",
       "      <th>level5</th>\n",
       "      <th>level6</th>\n",
       "      <th>level7</th>\n",
       "      <th>level8</th>\n",
       "      <th>upperLevel</th>\n",
       "      <th>countryId</th>\n",
       "      <th>level1Id</th>\n",
       "      <th>level2Id</th>\n",
       "      <th>level3Id</th>\n",
       "      <th>level4Id</th>\n",
       "      <th>level5Id</th>\n",
       "      <th>level6Id</th>\n",
       "      <th>level7Id</th>\n",
       "      <th>level8Id</th>\n",
       "      <th>accuracy</th>\n",
       "      <th>latitude</th>\n",
       "      <th>longitude</th>\n",
       "      <th>zipCode</th>\n",
       "      <th>customZone</th>\n",
       "    </tr>\n",
       "  </thead>\n",
       "  <tbody>\n",
       "    <tr>\n",
       "      <th>0</th>\n",
       "      <td>1</td>\n",
       "      <td>153771986</td>\n",
       "      <td>False</td>\n",
       "      <td>ferrari 57 inmobiliaria</td>\n",
       "      <td>912177526.0</td>\n",
       "      <td>https://www.fotocasa.es/es/comprar/vivienda/ma...</td>\n",
       "      <td>3.0</td>\n",
       "      <td>2.0</td>\n",
       "      <td>103.0</td>\n",
       "      <td>195000</td>\n",
       "      <td>2019-12-28T18:27:15.9975027Z</td>\n",
       "      <td>Ponemos a la venta piso de 3 dormitorios con t...</td>\n",
       "      <td>Calle Presidente Felipe Gonzalez, Arganda del Rey</td>\n",
       "      <td>España</td>\n",
       "      <td>Madrid</td>\n",
       "      <td>Madrid</td>\n",
       "      <td>Madrid Sureste - Cuenca Tajuña</td>\n",
       "      <td>Arganda del Rey, Zona de</td>\n",
       "      <td>Arganda del Rey</td>\n",
       "      <td>NaN</td>\n",
       "      <td>Perlita</td>\n",
       "      <td>NaN</td>\n",
       "      <td>Perlita</td>\n",
       "      <td>0</td>\n",
       "      <td>0</td>\n",
       "      <td>0</td>\n",
       "      <td>0</td>\n",
       "      <td>0</td>\n",
       "      <td>0</td>\n",
       "      <td>0</td>\n",
       "      <td>0</td>\n",
       "      <td>0</td>\n",
       "      <td>0</td>\n",
       "      <td>40,2948276786438</td>\n",
       "      <td>-3,44402412135624</td>\n",
       "      <td>NaN</td>\n",
       "      <td>NaN</td>\n",
       "    </tr>\n",
       "    <tr>\n",
       "      <th>1</th>\n",
       "      <td>2</td>\n",
       "      <td>153867863</td>\n",
       "      <td>False</td>\n",
       "      <td>tecnocasa fuenlabrada ferrocarril</td>\n",
       "      <td>916358736.0</td>\n",
       "      <td>https://www.fotocasa.es/es/comprar/vivienda/ma...</td>\n",
       "      <td>3.0</td>\n",
       "      <td>1.0</td>\n",
       "      <td>NaN</td>\n",
       "      <td>89000</td>\n",
       "      <td>2019-12-28T18:27:15.9975027Z</td>\n",
       "      <td>\"\"Agencia inmobiliaria de FUENLABRADA - zona F...</td>\n",
       "      <td>Calle Polvoranca, 6, Fuenlabrada</td>\n",
       "      <td>España</td>\n",
       "      <td>Madrid</td>\n",
       "      <td>Madrid</td>\n",
       "      <td>Zona Sur de Madrid</td>\n",
       "      <td>Fuenlabrada, Zona de</td>\n",
       "      <td>Fuenlabrada</td>\n",
       "      <td>NaN</td>\n",
       "      <td>Centro</td>\n",
       "      <td>NaN</td>\n",
       "      <td>Centro</td>\n",
       "      <td>0</td>\n",
       "      <td>0</td>\n",
       "      <td>0</td>\n",
       "      <td>0</td>\n",
       "      <td>0</td>\n",
       "      <td>0</td>\n",
       "      <td>0</td>\n",
       "      <td>0</td>\n",
       "      <td>0</td>\n",
       "      <td>1</td>\n",
       "      <td>40,28674</td>\n",
       "      <td>-3,79351</td>\n",
       "      <td>NaN</td>\n",
       "      <td>NaN</td>\n",
       "    </tr>\n",
       "    <tr>\n",
       "      <th>2</th>\n",
       "      <td>3</td>\n",
       "      <td>153430440</td>\n",
       "      <td>False</td>\n",
       "      <td>look find boadilla</td>\n",
       "      <td>916350408.0</td>\n",
       "      <td>https://www.fotocasa.es/es/comprar/vivienda/ma...</td>\n",
       "      <td>2.0</td>\n",
       "      <td>2.0</td>\n",
       "      <td>99.0</td>\n",
       "      <td>390000</td>\n",
       "      <td>2019-12-28T18:27:15.9975027Z</td>\n",
       "      <td>Lookandfind Boadilla, vende en exclusiva, piso...</td>\n",
       "      <td>Calle Reyes Católicos, Boadilla del Monte</td>\n",
       "      <td>España</td>\n",
       "      <td>Madrid</td>\n",
       "      <td>Madrid</td>\n",
       "      <td>Zona Noroeste</td>\n",
       "      <td>Boadilla del Monte, Zona de</td>\n",
       "      <td>Boadilla del Monte</td>\n",
       "      <td>NaN</td>\n",
       "      <td>Sector B</td>\n",
       "      <td>NaN</td>\n",
       "      <td>Sector B</td>\n",
       "      <td>0</td>\n",
       "      <td>0</td>\n",
       "      <td>0</td>\n",
       "      <td>0</td>\n",
       "      <td>0</td>\n",
       "      <td>0</td>\n",
       "      <td>0</td>\n",
       "      <td>0</td>\n",
       "      <td>0</td>\n",
       "      <td>0</td>\n",
       "      <td>40,4115646786438</td>\n",
       "      <td>-3,90662252135624</td>\n",
       "      <td>NaN</td>\n",
       "      <td>NaN</td>\n",
       "    </tr>\n",
       "  </tbody>\n",
       "</table>\n",
       "</div>"
      ],
      "text/plain": [
       "   Unnamed: 0  id_realEstates  isNew                    realEstate_name  \\\n",
       "0           1       153771986  False            ferrari 57 inmobiliaria   \n",
       "1           2       153867863  False  tecnocasa fuenlabrada ferrocarril   \n",
       "2           3       153430440  False                 look find boadilla   \n",
       "\n",
       "   phone_realEstate                                       url_inmueble  rooms  \\\n",
       "0       912177526.0  https://www.fotocasa.es/es/comprar/vivienda/ma...    3.0   \n",
       "1       916358736.0  https://www.fotocasa.es/es/comprar/vivienda/ma...    3.0   \n",
       "2       916350408.0  https://www.fotocasa.es/es/comprar/vivienda/ma...    2.0   \n",
       "\n",
       "   bathrooms  surface   price                          date  \\\n",
       "0        2.0    103.0  195000  2019-12-28T18:27:15.9975027Z   \n",
       "1        1.0      NaN   89000  2019-12-28T18:27:15.9975027Z   \n",
       "2        2.0     99.0  390000  2019-12-28T18:27:15.9975027Z   \n",
       "\n",
       "                                         description  \\\n",
       "0  Ponemos a la venta piso de 3 dormitorios con t...   \n",
       "1  \"\"Agencia inmobiliaria de FUENLABRADA - zona F...   \n",
       "2  Lookandfind Boadilla, vende en exclusiva, piso...   \n",
       "\n",
       "                                             address country  level1  level2  \\\n",
       "0  Calle Presidente Felipe Gonzalez, Arganda del Rey  España  Madrid  Madrid   \n",
       "1                   Calle Polvoranca, 6, Fuenlabrada  España  Madrid  Madrid   \n",
       "2          Calle Reyes Católicos, Boadilla del Monte  España  Madrid  Madrid   \n",
       "\n",
       "                           level3                       level4  \\\n",
       "0  Madrid Sureste - Cuenca Tajuña     Arganda del Rey, Zona de   \n",
       "1              Zona Sur de Madrid         Fuenlabrada, Zona de   \n",
       "2                   Zona Noroeste  Boadilla del Monte, Zona de   \n",
       "\n",
       "               level5 level6    level7 level8 upperLevel  countryId  level1Id  \\\n",
       "0     Arganda del Rey    NaN   Perlita    NaN    Perlita          0         0   \n",
       "1         Fuenlabrada    NaN    Centro    NaN     Centro          0         0   \n",
       "2  Boadilla del Monte    NaN  Sector B    NaN   Sector B          0         0   \n",
       "\n",
       "   level2Id  level3Id  level4Id  level5Id  level6Id  level7Id  level8Id  \\\n",
       "0         0         0         0         0         0         0         0   \n",
       "1         0         0         0         0         0         0         0   \n",
       "2         0         0         0         0         0         0         0   \n",
       "\n",
       "   accuracy          latitude          longitude  zipCode  customZone  \n",
       "0         0  40,2948276786438  -3,44402412135624      NaN         NaN  \n",
       "1         1          40,28674           -3,79351      NaN         NaN  \n",
       "2         0  40,4115646786438  -3,90662252135624      NaN         NaN  "
      ]
     },
     "execution_count": 129,
     "metadata": {},
     "output_type": "execute_result"
    }
   ],
   "source": [
    "import pandas as pd\n",
    "\n",
    "# this CSV file contains semicolons instead of comas as separator\n",
    "ds = pd.read_csv('assets/real_estate.csv', sep=';')\n",
    "# Se muestran todas las columnas\n",
    "pd.set_option('display.max_columns', None )\n",
    "# Se imprimen las tres primeras filas del dataset para ver su estructura\n",
    "ds.head(3)\n"
   ]
  },
  {
   "attachments": {},
   "cell_type": "markdown",
   "id": "latin-guest",
   "metadata": {},
   "source": [
    "#### Ejercicio 01. ¿Cuál es la casa mas cara en el todo el dataset? (★☆☆)\n",
    "\n",
    "Imprime la direccion y el precio de la casa seleccionada. Por ejemplo:\n",
    "\n",
    "`The house with address General Street Nº5 is the most expensive and its price is 5000000 USD`"
   ]
  },
  {
   "cell_type": "code",
   "execution_count": 128,
   "id": "developing-optimum",
   "metadata": {},
   "outputs": [
    {
     "name": "stdout",
     "output_type": "stream",
     "text": [
      "La casa mas cara esta El Escorial con un precio de 8500000\n"
     ]
    }
   ],
   "source": [
    "# Se halla el indice con el valor máximo de la columna 'price'\n",
    "id_propiedad_mas_cara = ds['price'].idxmax()\n",
    "# Se localiza el valor de las columnas 'price' y 'address' con el indice máximo\n",
    "precio_max = ds.loc[id_propiedad_mas_cara, 'price']\n",
    "direccion = ds.loc[id_propiedad_mas_cara, 'address']\n",
    "# Se muestra el resultado\n",
    "print(f'La casa mas cara esta {direccion} con un precio de {precio_max}')"
   ]
  },
  {
   "attachments": {},
   "cell_type": "markdown",
   "id": "lesser-cosmetic",
   "metadata": {},
   "source": [
    "#### Ejercicio 02. ¿Cuál es la casa mas barata del dataset? (★☆☆)\n",
    "\n",
    "Imprime la dirección y el precio de la casa seleccionada. Por ejemplo:\n",
    "\n",
    "`The house with address Concrete Street Nº1 is the cheapest and its price is 12000 USD`"
   ]
  },
  {
   "cell_type": "code",
   "execution_count": 127,
   "id": "lovely-oasis",
   "metadata": {},
   "outputs": [
    {
     "name": "stdout",
     "output_type": "stream",
     "text": [
      "Se han filtrado las propiedades con valor de venta de 0 euros ya que debe tratarse de un error en los datos:\n",
      "La casa mas barata esta Berlin, Coslada, con un precio de 600 euros. \n"
     ]
    }
   ],
   "source": [
    "# Filtro precios iguales a 0 euros \n",
    "ds_filtrado = ds[ds['price'] > 0] \n",
    "# Se halla el indice con el valor mínimo de la columna 'price'\n",
    "id_propiedad_mas_barata = ds_filtrado['price'].idxmin()\n",
    "# Se localiza el valor de las columnas 'price' y 'address' con el indice minimo\n",
    "precio_min = ds_filtrado.loc[id_propiedad_mas_barata, 'price']\n",
    "direccion = ds_filtrado.loc[id_propiedad_mas_barata, 'address']\n",
    "# Se muestra el resultado\n",
    "print(f'''Se han filtrado las propiedades con valor de venta de 0 euros ya que debe tratarse de un error en los datos:\n",
    "La casa mas barata esta {direccion}, con un precio de {precio_min} euros. ''')"
   ]
  },
  {
   "attachments": {},
   "cell_type": "markdown",
   "id": "compliant-fellowship",
   "metadata": {},
   "source": [
    "#### Ejercicio 03. ¿Cuál es la casa mas grande y la mas pequeña del dataset? (★☆☆)\n",
    "\n",
    "Imprime la dirección y el area de las casas seleccionadas. Por ejemplo:\n",
    "\n",
    "`The bigger house is located on Yukka Street Nº10 and its surface is 5000 meters`\n",
    "\n",
    "`The smaller house is located on County Road 1 N and its surface is 200 meters`"
   ]
  },
  {
   "cell_type": "code",
   "execution_count": 124,
   "id": "every-tiffany",
   "metadata": {},
   "outputs": [
    {
     "name": "stdout",
     "output_type": "stream",
     "text": [
      "La propiedad mas grande esta en Sevilla la Nueva, con una superficie de 249000.0 m²\n",
      "La propiedad mas pequeña esta en Calle Amparo,  Madrid Capital, con una superficie de 15.0 m²\n"
     ]
    }
   ],
   "source": [
    "# se localiza el index de la propiedad con mayor superficie y se llama al dato de superficie por su columna\n",
    "biggest_property = ds_filtrado.loc[ds_filtrado['surface'].idxmax(), 'surface']\n",
    "# se localiza el index de la propiedad con mayor superficie y se llama al dato de dirección por su columna\n",
    "biggest_property_adress = ds_filtrado.loc[ds_filtrado['surface'].idxmax(), 'address']\n",
    "# se localiza el index de la propiedad con menor superficie y se llama al dato de superficie por su columna\n",
    "smallest_property = ds_filtrado.loc[ds_filtrado['surface'].idxmin(), 'surface']\n",
    "# se localiza el index de la propiedad con mayor superficie y se llama al dato de dirección por su columna\n",
    "smallest_property_adress = ds_filtrado.loc[ds_filtrado['surface'].idxmin(), 'address']\n",
    "\n",
    "#Print del resultado\n",
    "print(f'La propiedad mas grande esta en {biggest_property_adress}, con una superficie de {biggest_property} m²')\n",
    "print(f'La propiedad mas pequeña esta en {smallest_property_adress}, con una superficie de {smallest_property} m²')"
   ]
  },
  {
   "attachments": {},
   "cell_type": "markdown",
   "id": "danish-spirit",
   "metadata": {},
   "source": [
    "#### Ejercicio 04. ¿Cuantas poblaciones (columna level5) contiene el dataset? (★☆☆)\n",
    "\n",
    "Imprime el nombre de las poblaciones separadas por coma. Por ejemplo:\n",
    "\n",
    "`> print(populations)`\n",
    "\n",
    "`population1, population2, population3,...`"
   ]
  },
  {
   "cell_type": "code",
   "execution_count": 121,
   "id": "exciting-accreditation",
   "metadata": {},
   "outputs": [
    {
     "name": "stdout",
     "output_type": "stream",
     "text": [
      "En la base de datos hay 168 poblaciones\n",
      "Arganda del Rey, Fuenlabrada, Boadilla del Monte, Las Rozas de Madrid,  Madrid Capital, Villaviciosa de Odón, Pinto, Valdemoro, Navalcarnero, Pozuelo de Alarcón, Torrejón de Ardoz, Navalagamella, San Sebastián de los Reyes, Rivas-vaciamadrid, Alpedrete, Móstoles, San Fernando de Henares, Coslada, Becerril de la Sierra, Alcalá de Henares, Chinchón, Parla, Alcorcón, El Escorial, Leganés, Pedrezuela, Majadahonda, Villanueva de la Cañada, Villanueva del Pardillo, Torrelodones, Moralzarzal, Mejorada del Campo, Aranjuez, Corpa, Getafe, Velilla de San Antonio, Sevilla la Nueva, San Martín de la Vega, Villalbilla, Collado Villalba, Alcobendas, El Molar (Madrid), Moraleja de Enmedio, Algete, Campo Real, Torrejón de la Calzada, Colmenar Viejo, Valdemorillo, Fuente El Saz de Jarama, Tres Cantos, Arroyomolinos (Madrid), Griñón, Paracuellos de Jarama, Guadarrama, Titulcia, Galapagar, Collado Mediano, Los Molinos, San Lorenzo de El Escorial, Loeches, San Martín de Valdeiglesias, Navas del Rey, Bustarviejo, Manzanares El Real, Carabaña, Casarrubuelos, Cercedilla, Fresnedillas de la Oliva, Valdemaqueda, Robledo de Chavela, Miraflores de la Sierra, Humanes de Madrid, Valdetorres de Jarama, San Agustín del Guadalix, Ciempozuelos, Camarma de Esteruelas, Torres de la Alameda, Talamanca de Jarama, El Atazar, Hoyo de Manzanares, El Boalo - Cerceda – Mataelpino, El Álamo, Valdilecha, Valdeolmos-Alalpardo, Guadalix de la Sierra, Belmonte de Tajo, El Vellón, Brunete, Redueña, Morata de Tajuña, Tielmes, Gargantilla del Lozoya, Meco, Venturada, Quijorna, Cenicientos, Torrejón de Velasco, Navacerrada, Santa María de la Alameda, Orusco de Tajuña, Daganzo de Arriba, Villamanta, Anchuelo, Valdaracete, Ajalvir, Los Santos de la Humosa, Villamanrique de Tajo, Colmenar de Oreja, Villa del Prado, Fuentidueña de Tajo, Colmenar del Arroyo, Valdelaguna, Cubas de la Sagra, Valdeavero, Aldea del Fresno, Ribatejada, Torrelaguna, Batres, Pezuela de las Torres, Colmenarejo, Serranillos del Valle, Cobeña, Soto del Real, El Berrueco, Villanueva de Perales, Fresno de Torote - Serracines, Pozuelo del Rey, Pelayos de la Presa, La Cabrera, Nuevo Baztán, Perales de Tajuña, Villaconejos, Villarejo de Salvanés, Cadalso de los Vidrios, Santorcaz, Madarcos, Garganta de los Montes, Puentes Viejas, Torremocha de Jarama, Valdemanco, Braojos, Lozoyuela-navas-sieteiglesias, Piñuécar-gandullas, Valdepiélagos, Valverde de Alcalá, Villar del Olmo, Villamantilla, Horcajo de la Sierra, Gascones, Zarzalejo, Villavieja del Lozoya, Brea de Tajo, Estremera, Chapinería, Navarredonda, Patones, Ambite, Navalafuente, Lozoya, Canencia, Cabanillas de la Sierra, Buitrago del Lozoya, Fresno de Torote, Robregordo, Pinilla del Valle, Rascafría, La Hiruela, Montejo de la Sierra\n"
     ]
    }
   ],
   "source": [
    "# Numero de poblaciones unicas\n",
    "poblaciones = ds_filtrado['level5'].nunique()\n",
    "# string de todas las poblaciones unicas separadas por comas\n",
    "poblaciones_sincomillas = ', '.join(ds_filtrado['level5'].unique())\n",
    "# Se muestra el resultado\n",
    "print(f'En la base de datos hay {poblaciones} poblaciones')\n",
    "print(poblaciones_sincomillas)\n"
   ]
  },
  {
   "attachments": {},
   "cell_type": "markdown",
   "id": "crazy-blame",
   "metadata": {},
   "source": [
    "#### Ejercicio 05. ¿El data set contiene valores no admitidos (NAs)? (★☆☆)\n",
    "\n",
    "Imprima un booleano (`true` o `fase`) seguido de la fila/columna que contiene el NAs."
   ]
  },
  {
   "cell_type": "code",
   "execution_count": 113,
   "id": "transparent-poetry",
   "metadata": {},
   "outputs": [
    {
     "name": "stdout",
     "output_type": "stream",
     "text": [
      "Si, el dataset contiene valores no admitidos\n",
      " False: Unnamed: 0\n",
      " False: id_realEstates\n",
      " False: isNew\n",
      " True: realEstate_name\n",
      " True: phone_realEstate\n",
      " False: url_inmueble\n",
      " True: rooms\n",
      " True: bathrooms\n",
      " True: surface\n",
      " False: price\n",
      " False: date\n",
      " True: description\n",
      " False: address\n",
      " False: country\n",
      " False: level1\n",
      " False: level2\n",
      " False: level3\n",
      " True: level4\n",
      " False: level5\n",
      " True: level6\n",
      " True: level7\n",
      " True: level8\n",
      " False: upperLevel\n",
      " False: countryId\n",
      " False: level1Id\n",
      " False: level2Id\n",
      " False: level3Id\n",
      " False: level4Id\n",
      " False: level5Id\n",
      " False: level6Id\n",
      " False: level7Id\n",
      " False: level8Id\n",
      " False: accuracy\n",
      " False: latitude\n",
      " False: longitude\n",
      " True: zipCode\n",
      " True: customZone\n",
      " True: PPS\n"
     ]
    },
    {
     "data": {
      "text/plain": [
       "pandas.core.series.Series"
      ]
     },
     "execution_count": 113,
     "metadata": {},
     "output_type": "execute_result"
    }
   ],
   "source": [
    "# Averiguamos si hay NaN en el dataset\n",
    "hay_nans = ds_filtrado.isna().any()\n",
    "# Resultado // iteramos sobre la serie 'hay_nans' para mostrar los valores en el orden que solicita el enunciado\n",
    "print('Si, el dataset contiene valores no admitidos')\n",
    "for indice in hay_nans.index:\n",
    "    print(f' {hay_nans[indice]}: {indice}')\n"
   ]
  },
  {
   "attachments": {},
   "cell_type": "markdown",
   "id": "italic-hydrogen",
   "metadata": {},
   "source": [
    "#### Ejercicio 06. Elimina los NAs del data set, si aplica (★★☆)\n",
    "\n",
    "Imprima una comparación entre las dimensiones del DataFrame original versus el DataFrame después de las eliminaciones.\n"
   ]
  },
  {
   "cell_type": "code",
   "execution_count": 135,
   "id": "administrative-roads",
   "metadata": {},
   "outputs": [
    {
     "name": "stdout",
     "output_type": "stream",
     "text": [
      "las dimensiones originales del dataframe son (15275, 38):\n",
      "- Se reducen a (15275, 25) si eliminamos los Nan por columnas\n",
      "- Si eliminamos los NaN por filas, se queda sin datos (0, 38)\n",
      "- Siendo 66667 el total de NaN encontrados, no procede su eliminación sin valorar antes con mas detalle \n",
      "otras opciones como completarlos con medias de sus vecinos.\n"
     ]
    }
   ],
   "source": [
    "ds_filtrado.isna().sum()\n",
    "#Buscamos NaN por filas\n",
    "ds_nan_droped_1 = ds_filtrado.dropna()\n",
    "#Buscamos NaN por columnas\n",
    "ds_nan_droped_2 = ds_filtrado.dropna(axis=1)\n",
    "#Total de Nan en el dataframe\n",
    "total_NaN = ds_filtrado.isna().sum().sum()\n",
    "# Mostramos resultado\n",
    "print(f'''las dimensiones originales del dataframe son {ds_filtrado.shape}:\n",
    "- Se reducen a (15275, 25) si eliminamos los Nan por columnas\n",
    "- Si eliminamos los NaN por filas, se queda sin datos (0, 38)\n",
    "- Siendo {total_NaN} el total de NaN encontrados, no procede su eliminación sin valorar antes con mas detalle \n",
    "otras opciones como completarlos con medias de sus vecinos.''')\n",
    "\n"
   ]
  },
  {
   "attachments": {},
   "cell_type": "markdown",
   "id": "middle-china",
   "metadata": {},
   "source": [
    "#### Ejercicio 07. ¿Cuál la media de precios en la población (columna level5) de \"Arroyomolinos (Madrid)\"? (★★☆)\n",
    "\n",
    "Imprima el valor obtenido"
   ]
  },
  {
   "cell_type": "code",
   "execution_count": 137,
   "id": "nuclear-belief",
   "metadata": {},
   "outputs": [
    {
     "name": "stdout",
     "output_type": "stream",
     "text": [
      "El precio medio de las propiedades en Arroyomolinos es de  298905.18 euros\n"
     ]
    }
   ],
   "source": [
    "# Se obtiene precio medio en la poblacion solicitada filtrando dataset original por columna 'level5'\n",
    "precio_medio_arroyomolinos = ds_filtrado[ds_filtrado['level5'] == 'Arroyomolinos (Madrid)']['price'].mean()\n",
    "# Se muestra el resultado\n",
    "print(f'El precio medio de las propiedades en Arroyomolinos es de {precio_medio_arroyomolinos: .2f} euros')"
   ]
  },
  {
   "attachments": {},
   "cell_type": "markdown",
   "id": "concerned-radical",
   "metadata": {},
   "source": [
    "#### Ejercicio 08. Trazar el histograma de los precios para la población (level5 column) de \"Arroyomolinos (Madrid)\" y explica qué observas (★★☆)\n",
    "\n",
    "Imprime el histograma de los precios y escribe en la celda del Markdown un breve análisis del trazado.\n"
   ]
  },
  {
   "cell_type": "code",
   "execution_count": 82,
   "id": "sudden-message",
   "metadata": {},
   "outputs": [
    {
     "data": {
      "image/png": "[encoded data removed]",
      "text/plain": [
       "<Figure size 640x480 with 1 Axes>"
      ]
     },
     "metadata": {},
     "output_type": "display_data"
    }
   ],
   "source": [
    "# Importacion de Modulos necesarios\n",
    "import matplotlib.pyplot as plt\n",
    "\n",
    "# Se grafica el histograma\n",
    "plt.hist(ds[ds['level5'] == 'Arroyomolinos (Madrid)']['price'], bins=50)\n",
    "# Titulo y etiquetas\n",
    "plt.title('Histograma de precios en Arroyomolinos, Madrid')\n",
    "plt.xlabel('Precios')\n",
    "plt.ylabel('Frecuencia')\n",
    "plt.show()"
   ]
  },
  {
   "cell_type": "markdown",
   "id": "1bcd7cfc",
   "metadata": {},
   "source": [
    "### Observaciones:\n",
    "\n",
    "-Se observan valores atipicos en el rango bajo(Viviendas en venta por 0 euros) que muy probablemente se deban a errores en los datos introducidos.\n",
    "\n",
    "\n",
    "-La mayor cantidad de propiedades en venta se encuentra en el rango entre 150.000 y 400.000 euros.  \n",
    "\n",
    "\n",
    "-Dentro de ese rango, se observa que el precio mas frecuente esta entre 275.000 y 300.000 euros (mas de 12 viviendas)\n",
    "\n",
    "\n",
    "-El histograma tiene una distribucion asimetrica. Pueden encontrarse viviendas por encima de los 400.000 euros hasta casi los 600.000, pero ninguna por debajo de los 150.000 euros."
   ]
  },
  {
   "attachments": {},
   "cell_type": "markdown",
   "id": "impressed-combination",
   "metadata": {},
   "source": [
    "**TODO: Markdown**. Para escribir aquí, has doble click en este celda y elimina este contenido y coloca lo que quieras escribir. Luego ejecuta la celda."
   ]
  },
  {
   "attachments": {},
   "cell_type": "markdown",
   "id": "actual-edinburgh",
   "metadata": {},
   "source": [
    "#### Ejercicio 09. ¿ Son los precios promedios de \"Valdemorillo\" y \"Galapagar\" los mismos? (★★☆)\n",
    "\n",
    "Imprime ambos promedio y escribe una conclusion acerca de ellos"
   ]
  },
  {
   "cell_type": "code",
   "execution_count": 79,
   "id": "numeric-commerce",
   "metadata": {},
   "outputs": [
    {
     "name": "stdout",
     "output_type": "stream",
     "text": [
      "El precio medio de las propiedades en Valdemorillo es de 363860.29 y el de Galapagar es de 360063.2\n"
     ]
    }
   ],
   "source": [
    "# Se obtienen precios medios de las dos poblaciones solicitadas redondeados a dos decimales\n",
    "precio_medio_Valdemorillo = round(ds_filtrado[ds_filtrado['level5'] == 'Valdemorillo']['price'].mean(), 2)\n",
    "precio_medio_Galapagar = round(ds_filtrado[ds_filtrado['level5'] == 'Galapagar']['price'].mean(), 2)\n",
    "\n",
    "# Se muestra el resultado\n",
    "print(f'El precio medio de las propiedades en Valdemorillo es de {precio_medio_Valdemorillo} y el de Galapagar es de {precio_medio_Galapagar}')"
   ]
  },
  {
   "attachments": {},
   "cell_type": "markdown",
   "id": "lonely-article",
   "metadata": {},
   "source": [
    "#### Ejercicio 10. ¿Son los promedios de precio por metro cuadrado (price/m2) de \"Valdemorillo\" y \"Galapagar\" los mismos? (★★☆)\n",
    "\n",
    "Imprime ambos promedios de precio y escribe una conclusion acerca de ellos.\n",
    "\n",
    "Pista: Crea una nueva columna llamada `pps` (price per square) y luego analiza los valore.s"
   ]
  },
  {
   "cell_type": "code",
   "execution_count": 74,
   "id": "4a5ead2b",
   "metadata": {},
   "outputs": [],
   "source": [
    "# Se crea nueva columna de precio por metro cuadrado\n",
    "ds['PPS'] = ds_filtrado['price'] / ds_filtrado['surface']"
   ]
  },
  {
   "cell_type": "code",
   "execution_count": 78,
   "id": "hourly-globe",
   "metadata": {},
   "outputs": [
    {
     "name": "stdout",
     "output_type": "stream",
     "text": [
      "El precio medio por metro cuadrado de las propiedades en Valdemorillo es de 1317.95 y el de Galapagar es de 1606.32\n",
      "Promedio de precio por metro cuadrado:\n",
      "- 1317.95 euros/m² en Valdemorillo, con una superficie promedio de 350.02 m²\n",
      "- 1606.32 euros/m² en Galapagar, con una superficie promedio de 305.52 m²\n"
     ]
    }
   ],
   "source": [
    "\n",
    "# Se obtienen las medias de precio por metro cuadrado de las poblaciones solicitadas\n",
    "PPS_medio_Valdemorillo = round(ds_filtrado[ds_filtrado['level5'] == 'Valdemorillo']['PPS'].mean(), 2)\n",
    "PPS_medio_Galapagar = round(ds_filtrado[ds_filtrado['level5'] == 'Galapagar']['PPS'].mean(), 2)\n",
    "print(f'El precio medio por metro cuadrado de las propiedades en Valdemorillo es de {PPS_medio_Valdemorillo} y el de Galapagar es de {PPS_medio_Galapagar}')\n",
    "\n",
    "# Obtengo la superficie media de las propiedades de cada comunidad redondeada a dos decimales\n",
    "surface_media_Valdemorillo = round(ds_filtrado[ds_filtrado['level5'] == 'Valdemorillo']['surface'].mean(), 2)\n",
    "surface_media_Galapagar = round(ds_filtrado[ds_filtrado['level5'] == 'Galapagar']['surface'].mean(), 2)\n",
    "\n",
    "# Se muestra el resultado\n",
    "print(f'''Promedio de precio por metro cuadrado:\n",
    "- {PPS_medio_Valdemorillo:.2f} euros/m² en Valdemorillo, con una superficie promedio de {surface_media_Valdemorillo} m²\n",
    "- {PPS_medio_Galapagar:.2f} euros/m² en Galapagar, con una superficie promedio de {surface_media_Galapagar} m²''')\n"
   ]
  },
  {
   "cell_type": "markdown",
   "id": "553807ad",
   "metadata": {},
   "source": [
    "### Podemos concluir que:\n",
    "\n",
    "- En Valdemorillo es posible conseguir una propiedad mas grande que en Galapagar con la misma inversion. (Inversores que pretendan alquilar por habitaciones o incluso dividir la vivienda en varios apartamentos, puede que encuentren mas atractiva esta población)\n",
    "\n",
    "\n",
    "- Las propiedades de la muestra son, en promedio, mas grandes en Valdemorillos."
   ]
  },
  {
   "attachments": {},
   "cell_type": "markdown",
   "id": "pleasant-invite",
   "metadata": {},
   "source": [
    "#### Ejercicio 11. Analiza la relación entre la superficie y el precio de las casas. (★★☆)\n",
    "\n",
    "Pista: Puedes hacer un `scatter plot` y luego escribir una conclusion al respecto."
   ]
  },
  {
   "cell_type": "code",
   "execution_count": 51,
   "id": "common-drilling",
   "metadata": {},
   "outputs": [
    {
     "data": {
      "text/plain": [
       "(0.0, 2000.0)"
      ]
     },
     "execution_count": 51,
     "metadata": {},
     "output_type": "execute_result"
    },
    {
     "data": {
      "image/png": "[encoded data removed]",
      "text/plain": [
       "<Figure size 1200x600 with 2 Axes>"
      ]
     },
     "metadata": {},
     "output_type": "display_data"
    }
   ],
   "source": [
    "# Se gerena un grid de 1x2 para el plot\n",
    "fig, axs= plt.subplots(1, 2, figsize=(12, 6))\n",
    "\n",
    "#Se grafica un scatterplot que relaciona precio(x) y superficie(y)\n",
    "axs[0].scatter(x=ds_filtrado['price'], y=ds_filtrado['surface'])\n",
    "# Titulo y etiquetas\n",
    "axs[0].set_title('Distribucion de precios en relacion la superficie')\n",
    "axs[0].set_xlabel('Precios')\n",
    "axs[0].set_ylabel('Superficie')\n",
    "\n",
    "#Segundo scatterplot que relaciona precio(x) y superficie(y) ampliando la zona mas densa\n",
    "axs[1].scatter(x=ds_filtrado['price'], y=ds_filtrado['surface'], s=1)\n",
    "# Titulo y etiquetas\n",
    "axs[1].set_title('Distribucion de precios en relacion la superficie')\n",
    "axs[1].set_xlabel('Precios')\n",
    "axs[1].set_ylabel('Superficie')\n",
    "# Se limita el eje y a un maximo de 2000 m²\n",
    "axs[1].set_ylim(0, 2000)\n"
   ]
  },
  {
   "attachments": {},
   "cell_type": "markdown",
   "id": "ahead-liquid",
   "metadata": {},
   "source": [
    "### Se han graficado dos versiones de los datos.\n",
    "\n",
    "-El primer gráfico muestra los datos en bruto y se puede observar que hay unas pocas propiedades que exceden por mucho los valores medios, llegando a tener una superficie de casi 250000 M² y precios en torno a 8.000.000 de euros.\n",
    "\n",
    "\n",
    "-En el segundo gráfico se han filtrado los valores de superficie por encima de los 2000 M2. Se aprecia la mayor densidad de datos. Se puede intuir, de manera poco precisa, que la mayor parte de las propiedades estan por debajo de los 1000 m² y los 300.000 euros.\n"
   ]
  },
  {
   "attachments": {},
   "cell_type": "markdown",
   "id": "coordinate-sunrise",
   "metadata": {},
   "source": [
    "#### Ejercicio 12. ¿Cuántas agencia de bienes raíces contiene el dataset? (★★☆)\n",
    "\n",
    "Imprime el valor obtenido."
   ]
  },
  {
   "cell_type": "code",
   "execution_count": 52,
   "id": "valid-honolulu",
   "metadata": {},
   "outputs": [
    {
     "name": "stdout",
     "output_type": "stream",
     "text": [
      "El número de inmobiliarias únicas en el DataFrame es: 1816\n"
     ]
    }
   ],
   "source": [
    "# Se obtiene mediante nunique cuantos valores unicos contiene la columna 'realEstate_name'\n",
    "inmobiliarias_totales = ds_filtrado['realEstate_name'].nunique()\n",
    "# Se muestra el resultado\n",
    "print(f\"El número de inmobiliarias únicas en el DataFrame es: {inmobiliarias_totales}\")"
   ]
  },
  {
   "attachments": {},
   "cell_type": "markdown",
   "id": "binding-ebony",
   "metadata": {},
   "source": [
    "#### Ejercicio 13. ¿Cuál es la población (columna level5) que contiene la mayor cantidad de casas?(★★☆)\n",
    "\n",
    "Imprima la población y el número de casas."
   ]
  },
  {
   "cell_type": "code",
   "execution_count": 63,
   "id": "static-perry",
   "metadata": {},
   "outputs": [
    {
     "name": "stdout",
     "output_type": "stream",
     "text": [
      "La comunidad con más casas en venta es:  Madrid Capital con 6632 casas.\n"
     ]
    }
   ],
   "source": [
    "# Contamos las propiedades de cada poblacion\n",
    "conteo_comunidad_max_props = ds_filtrado['level5'].value_counts()\n",
    "#buscamos el maximo de propiedades en venta de la serie obtenida antes\n",
    "max_props = conteo_comunidad_max_props.max()\n",
    "# Obtenemos el indice con mas propiedades en venta de esa misma serie\n",
    "comunidad_max_props = conteo_comunidad_max_props.idxmax()\n",
    "# Mostramos resultado\n",
    "print(f\"La comunidad con más casas en venta es: {comunidad_max_props} con {max_props} casas.\")\n"
   ]
  },
  {
   "attachments": {},
   "cell_type": "markdown",
   "id": "entire-classification",
   "metadata": {},
   "source": [
    "#### Ejercicio 14. Ahora vamos a trabajar con el \"cinturón sur\" de Madrid. Has un subconjunto del Dataframe original que contenga las siguientes poblaciones (columna level5): \"Fuenlabrada\",\"Leganés\",\"Getafe\",\"Alcorcón\" (★★☆)\n",
    "\n",
    "Pista: Filtra el Dataframe original usando la columna `level5` y la función `isin`"
   ]
  },
  {
   "cell_type": "code",
   "execution_count": 54,
   "id": "binary-input",
   "metadata": {},
   "outputs": [
    {
     "data": {
      "text/html": [
       "<div>\n",
       "<style scoped>\n",
       "    .dataframe tbody tr th:only-of-type {\n",
       "        vertical-align: middle;\n",
       "    }\n",
       "\n",
       "    .dataframe tbody tr th {\n",
       "        vertical-align: top;\n",
       "    }\n",
       "\n",
       "    .dataframe thead th {\n",
       "        text-align: right;\n",
       "    }\n",
       "</style>\n",
       "<table border=\"1\" class=\"dataframe\">\n",
       "  <thead>\n",
       "    <tr style=\"text-align: right;\">\n",
       "      <th></th>\n",
       "      <th>Unnamed: 0</th>\n",
       "      <th>id_realEstates</th>\n",
       "      <th>isNew</th>\n",
       "      <th>realEstate_name</th>\n",
       "      <th>phone_realEstate</th>\n",
       "      <th>url_inmueble</th>\n",
       "      <th>rooms</th>\n",
       "      <th>bathrooms</th>\n",
       "      <th>surface</th>\n",
       "      <th>price</th>\n",
       "      <th>date</th>\n",
       "      <th>description</th>\n",
       "      <th>address</th>\n",
       "      <th>country</th>\n",
       "      <th>level1</th>\n",
       "      <th>level2</th>\n",
       "      <th>level3</th>\n",
       "      <th>level4</th>\n",
       "      <th>level5</th>\n",
       "      <th>level6</th>\n",
       "      <th>level7</th>\n",
       "      <th>level8</th>\n",
       "      <th>upperLevel</th>\n",
       "      <th>countryId</th>\n",
       "      <th>level1Id</th>\n",
       "      <th>level2Id</th>\n",
       "      <th>level3Id</th>\n",
       "      <th>level4Id</th>\n",
       "      <th>level5Id</th>\n",
       "      <th>level6Id</th>\n",
       "      <th>level7Id</th>\n",
       "      <th>level8Id</th>\n",
       "      <th>accuracy</th>\n",
       "      <th>latitude</th>\n",
       "      <th>longitude</th>\n",
       "      <th>zipCode</th>\n",
       "      <th>customZone</th>\n",
       "      <th>PPS</th>\n",
       "    </tr>\n",
       "  </thead>\n",
       "  <tbody>\n",
       "    <tr>\n",
       "      <th>1</th>\n",
       "      <td>2</td>\n",
       "      <td>153867863</td>\n",
       "      <td>False</td>\n",
       "      <td>tecnocasa fuenlabrada ferrocarril</td>\n",
       "      <td>916358736.0</td>\n",
       "      <td>https://www.fotocasa.es/es/comprar/vivienda/ma...</td>\n",
       "      <td>3.0</td>\n",
       "      <td>1.0</td>\n",
       "      <td>NaN</td>\n",
       "      <td>89000</td>\n",
       "      <td>2019-12-28T18:27:15.9975027Z</td>\n",
       "      <td>\"\"Agencia inmobiliaria de FUENLABRADA - zona F...</td>\n",
       "      <td>Calle Polvoranca, 6, Fuenlabrada</td>\n",
       "      <td>España</td>\n",
       "      <td>Madrid</td>\n",
       "      <td>Madrid</td>\n",
       "      <td>Zona Sur de Madrid</td>\n",
       "      <td>Fuenlabrada, Zona de</td>\n",
       "      <td>Fuenlabrada</td>\n",
       "      <td>NaN</td>\n",
       "      <td>Centro</td>\n",
       "      <td>NaN</td>\n",
       "      <td>Centro</td>\n",
       "      <td>0</td>\n",
       "      <td>0</td>\n",
       "      <td>0</td>\n",
       "      <td>0</td>\n",
       "      <td>0</td>\n",
       "      <td>0</td>\n",
       "      <td>0</td>\n",
       "      <td>0</td>\n",
       "      <td>0</td>\n",
       "      <td>1</td>\n",
       "      <td>40,28674</td>\n",
       "      <td>-3,79351</td>\n",
       "      <td>NaN</td>\n",
       "      <td>NaN</td>\n",
       "      <td>NaN</td>\n",
       "    </tr>\n",
       "    <tr>\n",
       "      <th>3</th>\n",
       "      <td>4</td>\n",
       "      <td>152776331</td>\n",
       "      <td>False</td>\n",
       "      <td>tecnocasa fuenlabrada ferrocarril</td>\n",
       "      <td>916358736.0</td>\n",
       "      <td>https://www.fotocasa.es/es/comprar/vivienda/ma...</td>\n",
       "      <td>3.0</td>\n",
       "      <td>1.0</td>\n",
       "      <td>86.0</td>\n",
       "      <td>89000</td>\n",
       "      <td>2019-12-28T18:27:15.9975027Z</td>\n",
       "      <td>Agencia inmobiliaria de FUENLABRADA - zona Fue...</td>\n",
       "      <td>Barrio San Andres, Fuenlabrada</td>\n",
       "      <td>España</td>\n",
       "      <td>Madrid</td>\n",
       "      <td>Madrid</td>\n",
       "      <td>Zona Sur de Madrid</td>\n",
       "      <td>Fuenlabrada, Zona de</td>\n",
       "      <td>Fuenlabrada</td>\n",
       "      <td>NaN</td>\n",
       "      <td>Centro</td>\n",
       "      <td>NaN</td>\n",
       "      <td>Centro</td>\n",
       "      <td>0</td>\n",
       "      <td>0</td>\n",
       "      <td>0</td>\n",
       "      <td>0</td>\n",
       "      <td>0</td>\n",
       "      <td>0</td>\n",
       "      <td>0</td>\n",
       "      <td>0</td>\n",
       "      <td>0</td>\n",
       "      <td>0</td>\n",
       "      <td>40,2853785786438</td>\n",
       "      <td>-3,79508142135624</td>\n",
       "      <td>NaN</td>\n",
       "      <td>NaN</td>\n",
       "      <td>1034.883721</td>\n",
       "    </tr>\n",
       "  </tbody>\n",
       "</table>\n",
       "</div>"
      ],
      "text/plain": [
       "   Unnamed: 0  id_realEstates  isNew                    realEstate_name  \\\n",
       "1           2       153867863  False  tecnocasa fuenlabrada ferrocarril   \n",
       "3           4       152776331  False  tecnocasa fuenlabrada ferrocarril   \n",
       "\n",
       "   phone_realEstate                                       url_inmueble  rooms  \\\n",
       "1       916358736.0  https://www.fotocasa.es/es/comprar/vivienda/ma...    3.0   \n",
       "3       916358736.0  https://www.fotocasa.es/es/comprar/vivienda/ma...    3.0   \n",
       "\n",
       "   bathrooms  surface  price                          date  \\\n",
       "1        1.0      NaN  89000  2019-12-28T18:27:15.9975027Z   \n",
       "3        1.0     86.0  89000  2019-12-28T18:27:15.9975027Z   \n",
       "\n",
       "                                         description  \\\n",
       "1  \"\"Agencia inmobiliaria de FUENLABRADA - zona F...   \n",
       "3  Agencia inmobiliaria de FUENLABRADA - zona Fue...   \n",
       "\n",
       "                            address country  level1  level2  \\\n",
       "1  Calle Polvoranca, 6, Fuenlabrada  España  Madrid  Madrid   \n",
       "3    Barrio San Andres, Fuenlabrada  España  Madrid  Madrid   \n",
       "\n",
       "               level3                level4       level5 level6  level7  \\\n",
       "1  Zona Sur de Madrid  Fuenlabrada, Zona de  Fuenlabrada    NaN  Centro   \n",
       "3  Zona Sur de Madrid  Fuenlabrada, Zona de  Fuenlabrada    NaN  Centro   \n",
       "\n",
       "  level8 upperLevel  countryId  level1Id  level2Id  level3Id  level4Id  \\\n",
       "1    NaN     Centro          0         0         0         0         0   \n",
       "3    NaN     Centro          0         0         0         0         0   \n",
       "\n",
       "   level5Id  level6Id  level7Id  level8Id  accuracy          latitude  \\\n",
       "1         0         0         0         0         1          40,28674   \n",
       "3         0         0         0         0         0  40,2853785786438   \n",
       "\n",
       "           longitude  zipCode  customZone          PPS  \n",
       "1           -3,79351      NaN         NaN          NaN  \n",
       "3  -3,79508142135624      NaN         NaN  1034.883721  "
      ]
     },
     "metadata": {},
     "output_type": "display_data"
    }
   ],
   "source": [
    "# lista define las poblaciones del subset\n",
    "lista_sub_ds = [\"Fuenlabrada\",\"Leganés\",\"Getafe\",\"Alcorcón\"]\n",
    "# creamos el dataframe con los valores de 'level5'=poblacion que pertenezcan a la lista lista_sub_ds\n",
    "ds_comunidades_filtradas = ds_filtrado[ds_filtrado['level5'].isin(lista_sub_ds)]\n",
    "# mostramos el vodigo\n",
    "display(ds_comunidades_filtradas.head(2))"
   ]
  },
  {
   "attachments": {},
   "cell_type": "markdown",
   "id": "severe-fisher",
   "metadata": {},
   "source": [
    "#### Ejercicio 15. Traza un gráfico de barra de la media de los precios y explica lo que observas (debes usar el subconjunto obtenido de la pregunta 14) (★★★)\n",
    "\n",
    "Imprima un gráfico de barra de la media de precios y escriba en la celda Markdown un breve análisis del sector."
   ]
  },
  {
   "cell_type": "code",
   "execution_count": 55,
   "id": "lyric-bunch",
   "metadata": {},
   "outputs": [
    {
     "data": {
      "image/png": "[encoded data removed]",
      "text/plain": [
       "<Figure size 1000x600 with 1 Axes>"
      ]
     },
     "metadata": {},
     "output_type": "display_data"
    }
   ],
   "source": [
    "#hallamos precios medios de las propiedades agrupadas por poblaciones y redondeados a dos decimales\n",
    "precios_medios = round(ds_comunidades_filtradas.groupby('level5')['price'].mean(), 2)\n",
    "\n",
    "#Se procede con el grafico de Barras\n",
    "\n",
    "#definimos los colores a usar\n",
    "colors = ['red', 'green', 'blue', 'orange']\n",
    "#definimos el tamaño del plot\n",
    "plt.figure(figsize=(10,6))\n",
    "#Plot de las barras // almacenamos el plot en una variable \n",
    "barras = plt.bar(precios_medios.index, precios_medios.values, color=colors)\n",
    "#bucle para sobreescribir el valor numerico de precio medio sobre cada barra // de ahi el definir la variables barras\n",
    "for barra in barras:\n",
    "    #variable yval toma el valor maximo de cada barra = precio medio\n",
    "    yval = barra.get_height()\n",
    "    #Posicionamos el texto en el x e y de cada barra con el texto = yval de cada barra\n",
    "    plt.text(barra.get_x() + barra.get_width()/2, yval+1, yval,  ha='center', va='bottom')\n",
    "\n",
    "plt.show()\n"
   ]
  },
  {
   "attachments": {},
   "cell_type": "markdown",
   "id": "sublime-newspaper",
   "metadata": {},
   "source": [
    "### Observaciones:\n",
    "\n",
    "-La población con el precio medio mas alto de la propiedades es Getafe seguida de Alcorcón, Leganés y, en ultimo lugar, Fuenlabrada, donde es mas barato, en promedio, comprar una propiedad."
   ]
  },
  {
   "attachments": {},
   "cell_type": "markdown",
   "id": "speaking-diamond",
   "metadata": {},
   "source": [
    "#### Ejercicio 16. Calcula la media y la varianza dela muestra para las siguientes variables: precio, habitaciones, superficie y baños (debes usar el subconjunto obtenido en la pregunta 14) (★★★)\n",
    "\n",
    "Imprime ambos valores por  cada variable."
   ]
  },
  {
   "cell_type": "code",
   "execution_count": 56,
   "id": "random-feeling",
   "metadata": {},
   "outputs": [
    {
     "name": "stdout",
     "output_type": "stream",
     "text": [
      "price - Media: 226085.69162011173, Varianza: 14444627877.728062\n",
      "surface - Media: 111.29806451612903, Varianza: 4275.920086688338\n",
      "bathrooms - Media: 1.6271186440677967, Varianza: 0.5757343354551729\n",
      "rooms - Media: 3.0235955056179775, Varianza: 0.7204774964927139\n"
     ]
    }
   ],
   "source": [
    "#calcular varianza y media para 'price', 'rooms', 'surface' y 'bathrooms'\n",
    "\n",
    "#defino una funcion para extender el proceso a cualquier columna (numerica) de cualquier dataframe\n",
    "def stats(dataset, columns):\n",
    "    #se define el dicionario results donde se almacenaran los resultados var y mean\n",
    "    results = {}\n",
    "    #bucle for que itera sobre cada columna del Dataframe\n",
    "    for column in columns:\n",
    "        mean = dataset[column].mean()\n",
    "        var = dataset[column].var()\n",
    "        #Se almacenan lo resultados en el diccionario results con [column] como clave y (mean, var) como tupla de resultados\n",
    "        results[column] = (mean, var)\n",
    "        #se imprime la fString con los resxultados al llamado de la funcion\n",
    "        print(f\"{column} - Media: {mean}, Varianza: {var}\")\n",
    "\n",
    "#podriamos definir otras columnas y dataframes// la lista columnas define las que solicitaba el ejercicio\n",
    "columnas = ['price', 'surface', 'bathrooms', 'rooms']\n",
    "\n",
    "#llamada a la funcion con parametros (nuestro_dataframe, nuestra_lista_columnas)\n",
    "stats(ds_comunidades_filtradas, columnas)"
   ]
  },
  {
   "attachments": {},
   "cell_type": "markdown",
   "id": "revolutionary-matrix",
   "metadata": {},
   "source": [
    "#### Exercise 17. What is the most expensive house of each population? You must use the subset obtained in the question 14 (★★☆)\n",
    "\n",
    "Print both the address and the price of the selected house of each population. You can print a DataFrame or a single line for each population"
   ]
  },
  {
   "cell_type": "code",
   "execution_count": 57,
   "id": "fifteen-browse",
   "metadata": {},
   "outputs": [
    {
     "data": {
      "text/html": [
       "<div>\n",
       "<style scoped>\n",
       "    .dataframe tbody tr th:only-of-type {\n",
       "        vertical-align: middle;\n",
       "    }\n",
       "\n",
       "    .dataframe tbody tr th {\n",
       "        vertical-align: top;\n",
       "    }\n",
       "\n",
       "    .dataframe thead th {\n",
       "        text-align: right;\n",
       "    }\n",
       "</style>\n",
       "<table border=\"1\" class=\"dataframe\">\n",
       "  <thead>\n",
       "    <tr style=\"text-align: right;\">\n",
       "      <th></th>\n",
       "      <th>address</th>\n",
       "      <th>price</th>\n",
       "    </tr>\n",
       "  </thead>\n",
       "  <tbody>\n",
       "    <tr>\n",
       "      <th>5585</th>\n",
       "      <td>Alcorcón</td>\n",
       "      <td>950000</td>\n",
       "    </tr>\n",
       "    <tr>\n",
       "      <th>11561</th>\n",
       "      <td>Calle de Paulo Freire, 5, Fuenlabrada</td>\n",
       "      <td>490000</td>\n",
       "    </tr>\n",
       "    <tr>\n",
       "      <th>2881</th>\n",
       "      <td>Getafe</td>\n",
       "      <td>1050000</td>\n",
       "    </tr>\n",
       "    <tr>\n",
       "      <th>10412</th>\n",
       "      <td>Avenida Reina Sofía, Leganés</td>\n",
       "      <td>650000</td>\n",
       "    </tr>\n",
       "  </tbody>\n",
       "</table>\n",
       "</div>"
      ],
      "text/plain": [
       "                                     address    price\n",
       "5585                                Alcorcón   950000\n",
       "11561  Calle de Paulo Freire, 5, Fuenlabrada   490000\n",
       "2881                                  Getafe  1050000\n",
       "10412           Avenida Reina Sofía, Leganés   650000"
      ]
     },
     "metadata": {},
     "output_type": "display_data"
    }
   ],
   "source": [
    "import pandas\n",
    "# Encontrar los índices de las casas más caras en cada población\n",
    "indice_precios_max = ds_comunidades_filtradas.groupby('level5')['price'].idxmax()\n",
    "\n",
    "# Seleccionar las filas correspondientes a esos índices y extraer los valores requeridos \n",
    "casas_mas_caras = ds_comunidades_filtradas.loc[indice_precios_max, ['address', 'price']]\n",
    "\n",
    "# Imprimir el DataFrame resultante\n",
    "display(casas_mas_caras)\n",
    "\n"
   ]
  },
  {
   "attachments": {},
   "cell_type": "markdown",
   "id": "activated-knight",
   "metadata": {},
   "source": [
    "#### Exercise 18. Normalize the variable of prices for each population and plot the 4 histograms in the same plot (you must use the subset obtained in the question 14) (★★★)\n",
    "\n",
    "For the normalization method you can use the one you consider to, there is not a single correct answer to this question. Print the plot and write in the Markdown cell a brief analysis about the plot\n",
    "\n",
    "Hint: You can help yourself reviewing the multihist demo of Matplotlib"
   ]
  },
  {
   "cell_type": "code",
   "execution_count": 58,
   "id": "civic-meditation",
   "metadata": {},
   "outputs": [
    {
     "data": {
      "image/png": "[encoded data removed]",
      "text/plain": [
       "<Figure size 640x480 with 1 Axes>"
      ]
     },
     "metadata": {},
     "output_type": "display_data"
    }
   ],
   "source": [
    "# normalizacion a distribucion 0-1 \"Fuenlabrada\",\"Leganés\",\"Getafe\",\"Alcorcón\"\n",
    "\n",
    "# defino dataframes para cada poblacion a normalizar\n",
    "ds_getafe = ds_comunidades_filtradas[ds_comunidades_filtradas['level5'] == 'Getafe'].copy()\n",
    "ds_leganes = ds_comunidades_filtradas[ds_comunidades_filtradas['level5'] == 'Leganés'].copy()\n",
    "ds_fuenlabrada = ds_comunidades_filtradas[ds_comunidades_filtradas['level5'] == 'Fuenlabrada'].copy()\n",
    "ds_alcorcon = ds_comunidades_filtradas[ds_comunidades_filtradas['level5'] == 'Alcorcón'].copy()\n",
    "\n",
    "# creamos nueva columna norm_price (precio normalizado de 0 a 1 para cada poblacion, con la formula (x- x.max)/(x.max - x.min))\n",
    "ds_getafe['norm_price'] = (ds_getafe['price']- ds_getafe['price'].min())/(ds_getafe['price'].max() - ds_getafe['price'].min())\n",
    "ds_leganes['norm_price'] = (ds_leganes['price']- ds_leganes['price'].min())/(ds_leganes['price'].max() - ds_leganes['price'].min())\n",
    "ds_fuenlabrada['norm_price'] = (ds_fuenlabrada['price']- ds_fuenlabrada['price'].min())/(ds_fuenlabrada['price'].max() - ds_fuenlabrada['price'].min())\n",
    "ds_alcorcon['norm_price'] = (ds_alcorcon['price']- ds_alcorcon['price'].min())/(ds_alcorcon['price'].max() - ds_alcorcon['price'].min())\n",
    "\n",
    "# Plot de los histogramas, uno sobre otro, ajustada transparencia al 50% \n",
    "plt.hist(ds_getafe['norm_price'], bins=50, alpha=0.5, label='Getafe')\n",
    "plt.hist(ds_leganes['norm_price'], bins=50, alpha=0.5, label='Leganés')\n",
    "plt.hist(ds_fuenlabrada['norm_price'], bins=50, alpha=0.5, label='Fuenlabrada')\n",
    "plt.hist(ds_alcorcon['norm_price'], bins=50, alpha=0.5, label='Alcorcón')\n",
    "plt.legend(loc='upper right')\n",
    "plt.title('Histogramas de Precios normalizados por población')\n",
    "plt.xlabel('Precio Normalizado')\n",
    "plt.ylabel('Frecuencia')\n",
    "\n",
    "# Mostrar el gráfico\n",
    "plt.show()"
   ]
  },
  {
   "attachments": {},
   "cell_type": "markdown",
   "id": "precise-heavy",
   "metadata": {},
   "source": [
    "**TODO: Markdown**. To write here, double click to this cell and just remove this content and place the text you want to write. Then, execute the cell."
   ]
  },
  {
   "attachments": {},
   "cell_type": "markdown",
   "id": "patent-jonathan",
   "metadata": {},
   "source": [
    "#### Exercise 19. What can you say about the price per square meter (price/m2) between the towns of \"Getafe\" and \"Alcorcón\"? You must use the subset obtained in the question 14 (★★☆)\n",
    "\n",
    "Hint: Create a new column called `pps` (price per square) and then analyse the values"
   ]
  },
  {
   "cell_type": "code",
   "execution_count": 59,
   "id": "initial-liverpool",
   "metadata": {},
   "outputs": [
    {
     "name": "stdout",
     "output_type": "stream",
     "text": [
      "El precio medio por metro cuadrado en Getafe es de  2174.59 euros mientras que en Alcorcón es de  2239.30 euros\n"
     ]
    }
   ],
   "source": [
    "#hallamos precios medios por metro cuadrado para Getafe y Alcorcón\n",
    "pps_medio_getafe = ds_getafe['PPS'].mean()\n",
    "pps_medio_alcorcon = ds_alcorcon['PPS'].mean()\n",
    "\n",
    "#imprimimos resultados redondeados a dos decimales\n",
    "print(f'El precio medio por metro cuadrado en Getafe es de {pps_medio_getafe: .2f} euros mientras que en Alcorcón es de {pps_medio_alcorcon: .2f} euros')\n"
   ]
  },
  {
   "attachments": {},
   "cell_type": "markdown",
   "id": "enhanced-moscow",
   "metadata": {},
   "source": [
    "#### Exercise 20. Make the same plot for 4 different populations (level5 column) and rearrange them on the same graph? You must use the subset obtained in the question 14 (★★☆) \n",
    "Hint: make a scatter plot of each population using subplots."
   ]
  },
  {
   "cell_type": "code",
   "execution_count": 60,
   "id": "accepting-airfare",
   "metadata": {},
   "outputs": [
    {
     "data": {
      "image/png": "[encoded data removed]",
      "text/plain": [
       "<Figure size 1500x1500 with 4 Axes>"
      ]
     },
     "metadata": {},
     "output_type": "display_data"
    }
   ],
   "source": [
    "#Se van a trazar scatterplots de la relacion entre dormitorios y precio de las viviendas\n",
    "\n",
    "#definimos un grid 2x2 para los plots\n",
    "fig, axs = plt.subplots(2, 2, figsize=(15, 15))\n",
    "\n",
    "#Scatter plot leganes // relacion entre precio y habitaciones de la propiedad\n",
    "axs[0,0].scatter(ds_leganes['price'], ds_leganes['rooms'],color='orange', s=3 )\n",
    "axs[0,0].set_title('Relacion precio / nº habitaciones Leganes', fontsize=10)\n",
    "axs[0,0].set_xlabel('precio')\n",
    "axs[0,0].set_ylabel('habitaciones')\n",
    "\n",
    "#Scatter plot Alcorcon // relacion entre precio y habitaciones de la propiedad\n",
    "axs[0,1].scatter(ds_alcorcon['price'], ds_alcorcon['rooms'],color='green', s=3)\n",
    "axs[0,1].set_title('Relacion precio / nº habitaciones Alcorcón', fontsize=10)\n",
    "axs[0,1].set_xlabel('precio')\n",
    "axs[0,1].set_ylabel('habitaciones')\n",
    "\n",
    "#Scatter plot Getafe // relacion entre precio y habitaciones de la propiedad\n",
    "axs[1,0].scatter(ds_getafe['price'], ds_getafe['rooms'],color='blue', s=3)\n",
    "axs[1,0].set_title('Relacion precio / nº habitaciones Getafe', fontsize=10)\n",
    "axs[1,0].set_xlabel('precio')\n",
    "axs[1,0].set_ylabel('habitaciones')\n",
    "\n",
    "#Scatter plot Fuenlabrada // relacion entre precio y habitaciones de la propiedad\n",
    "axs[1,1].scatter(ds_fuenlabrada['price'], ds_fuenlabrada['rooms'],color='red',  s=3)\n",
    "axs[1,1].set_title('Relacion precio / nº habitaciones Fuenlabrada', fontsize=10)\n",
    "axs[1,1].set_xlabel('precio')\n",
    "axs[1,1].set_ylabel('habitaciones')\n",
    "\n",
    "plt.show()\n",
    "\n"
   ]
  },
  {
   "attachments": {},
   "cell_type": "markdown",
   "id": "blocked-effects",
   "metadata": {},
   "source": [
    "#### Ejercicio 21. Realiza un trazado de las coordenadas (columnas latitud y longitud) del cinturón ur de Madrid por color d cada población (debes usar el subconjunto obtenido en la pregunta 14) (★★★★)\n",
    "\n",
    "Ejecuta la siguiente celda y luego comienza a codear en la siguiente. Debes implementar u código simple que transforme las columnas de coordenadas en un diccionario de python (agrega más información si es necesario) y agrégala al mapa."
   ]
  },
  {
   "cell_type": "code",
   "execution_count": null,
   "id": "headed-privacy",
   "metadata": {},
   "outputs": [],
   "source": [
    "\n",
    "\n",
    "\n"
   ]
  },
  {
   "cell_type": "code",
   "execution_count": 61,
   "id": "present-mistress",
   "metadata": {},
   "outputs": [
    {
     "data": {
      "application/vnd.jupyter.widget-view+json": {
       "model_id": "a92255e2353747b9b9acf1faf0144ec3",
       "version_major": 2,
       "version_minor": 0
      },
      "text/plain": [
       "Map(center=[40.35, -3.83], controls=(ZoomControl(options=['position', 'zoom_in_text', 'zoom_in_title', 'zoom_o…"
      ]
     },
     "execution_count": 61,
     "metadata": {},
     "output_type": "execute_result"
    }
   ],
   "source": [
    "from ipyleaflet import Map, Marker, basemaps, LayerGroup, AwesomeIcon, LayersControl\n",
    "\n",
    "#elimino posibles NaN\n",
    "ds_no_Nan = ds_comunidades_filtradas.dropna(subset=['latitude', 'longitude'])\n",
    "\n",
    "\n",
    "# Crear el mapa, centrado en Madrid.\n",
    "mapa = Map(center=(40.35, -3.83), zoom=12, basemap=basemaps.OpenStreetMap.Mapnik)\n",
    "\n",
    "#Crear diccionario \n",
    "diccionario_coord = ds_no_Nan.groupby('level5').apply(lambda x: list(zip(x.latitude, x.longitude)),include_groups=False).to_dict()\n",
    "\n",
    "#corregir diccionario cambiando ',' por '.'\n",
    "diccionario_corregido = {}\n",
    "for poblacion, coords in diccionario_coord.items():\n",
    "    coords_corregidas = [(float(lat.replace(',', '.')), float(lon.replace(',', '.'))) for lat, lon in coords if lat != '0' and lon != '0']\n",
    "    diccionario_corregido[poblacion] = coords_corregidas\n",
    "\n",
    "#se crea lista de colores para asignar a las poblaciones   \n",
    "colores = ['red', 'purple', 'green', 'lightblue']\n",
    "for i ,(poblacion, coords) in enumerate(diccionario_corregido.items()):\n",
    "    # Crear un grupo de capas para cada población\n",
    "    layer = LayerGroup(name=poblacion)\n",
    "    for lat, lon in coords:\n",
    "        # Verificar que las coordenadas no sean (0.0, 0.0) antes de añadir el marcador\n",
    "        if (lat, lon) != (0.0, 0.0):\n",
    "            #se define el tipo de marker // el color itera sobre la lista colores\n",
    "            icon = AwesomeIcon(marker_color=colores[i % len(colores)], icon_color='white',spin=False)\n",
    "            #se define el marker con las coordenadas iteradas y especificando que no se puede mover de su posicion\n",
    "            marker = Marker(location=(lat, lon), icon=icon, draggable=False)\n",
    "            layer.add_layer(marker)\n",
    "    mapa.add_layer(layer)\n",
    "#se añade control de capas para poder activar o desactivar la vicualizacion por poblaciones\n",
    "mapa.add_control(LayersControl())\n",
    "mapa\n"
   ]
  },
  {
   "cell_type": "code",
   "execution_count": null,
   "metadata": {},
   "outputs": [],
   "source": []
  }
 ],
 "metadata": {
  "kernelspec": {
   "display_name": "Python 3",
   "language": "python",
   "name": "python3"
  },
  "language_info": {
   "codemirror_mode": {
    "name": "ipython",
    "version": 3
   },
   "file_extension": ".py",
   "mimetype": "text/x-python",
   "name": "python",
   "nbconvert_exporter": "python",
   "pygments_lexer": "ipython3",
   "version": "3.12.1"
  }
 },
 "nbformat": 4,
 "nbformat_minor": 5
}
